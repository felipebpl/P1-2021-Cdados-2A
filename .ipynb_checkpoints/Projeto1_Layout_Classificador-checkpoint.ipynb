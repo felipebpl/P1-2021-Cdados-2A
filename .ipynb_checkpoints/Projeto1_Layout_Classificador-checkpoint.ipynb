{
 "cells": [
  {
   "cell_type": "markdown",
   "metadata": {},
   "source": [
    "# Projeto 1 - Ciência dos Dados"
   ]
  },
  {
   "cell_type": "markdown",
   "metadata": {},
   "source": [
    " Eduardo Heitor Penteado\n",
    "\n",
    " Felipe Lemos\n",
    "\n",
    " Lourenco de Paula"
   ]
  },
  {
   "cell_type": "markdown",
   "metadata": {},
   "source": [
    "Atenção: Serão permitidos grupos de três pessoas, mas com uma rubrica mais exigente. Grupos deste tamanho precisarão fazer um questionário de avaliação de trabalho em equipe"
   ]
  },
  {
   "cell_type": "markdown",
   "metadata": {},
   "source": [
    "___\n",
    "Carregando algumas bibliotecas:"
   ]
  },
  {
   "cell_type": "code",
   "execution_count": 51,
   "metadata": {},
   "outputs": [],
   "source": [
    "%matplotlib inline\n",
    "import pandas as pd\n",
    "import matplotlib.pyplot as plt\n",
    "import numpy as np\n",
    "import os"
   ]
  },
  {
   "cell_type": "code",
   "execution_count": 52,
   "metadata": {
    "scrolled": false
   },
   "outputs": [
    {
     "name": "stdout",
     "output_type": "stream",
     "text": [
      "Esperamos trabalhar no diretório\n",
      "C:\\Users\\felem\\OneDrive\\Documentos\\2021.1\\Ciencia dos Dados 2A\\Projeto 1\\P1-2021-Cdados-2A\n"
     ]
    }
   ],
   "source": [
    "print('Esperamos trabalhar no diretório')\n",
    "print(os.getcwd())"
   ]
  },
  {
   "cell_type": "markdown",
   "metadata": {},
   "source": [
    "Carregando a base de dados com os tweets classificados como relevantes e não relevantes:"
   ]
  },
  {
   "cell_type": "code",
   "execution_count": 53,
   "metadata": {},
   "outputs": [],
   "source": [
    "filename = 'volkswagen.xlsx'"
   ]
  },
  {
   "cell_type": "code",
   "execution_count": 54,
   "metadata": {},
   "outputs": [
    {
     "data": {
      "text/html": [
       "<div>\n",
       "<style scoped>\n",
       "    .dataframe tbody tr th:only-of-type {\n",
       "        vertical-align: middle;\n",
       "    }\n",
       "\n",
       "    .dataframe tbody tr th {\n",
       "        vertical-align: top;\n",
       "    }\n",
       "\n",
       "    .dataframe thead th {\n",
       "        text-align: right;\n",
       "    }\n",
       "</style>\n",
       "<table border=\"1\" class=\"dataframe\">\n",
       "  <thead>\n",
       "    <tr style=\"text-align: right;\">\n",
       "      <th></th>\n",
       "      <th>Treinamento</th>\n",
       "      <th>B1</th>\n",
       "    </tr>\n",
       "  </thead>\n",
       "  <tbody>\n",
       "    <tr>\n",
       "      <td>0</td>\n",
       "      <td>estão vendo esse logo? é da volkswagen !\\no ma...</td>\n",
       "      <td>0</td>\n",
       "    </tr>\n",
       "    <tr>\n",
       "      <td>1</td>\n",
       "      <td>autoeuropa de palmela não deverá ser afetada p...</td>\n",
       "      <td>2</td>\n",
       "    </tr>\n",
       "    <tr>\n",
       "      <td>2</td>\n",
       "      <td>se fizerem eu tatuo volkswagen no meu peito e ...</td>\n",
       "      <td>0</td>\n",
       "    </tr>\n",
       "    <tr>\n",
       "      <td>3</td>\n",
       "      <td>grupo volkswagen terá plataforma única para to...</td>\n",
       "      <td>3</td>\n",
       "    </tr>\n",
       "    <tr>\n",
       "      <td>4</td>\n",
       "      <td>@volkswagen  apresenta roteiro da tecnologia p...</td>\n",
       "      <td>1</td>\n",
       "    </tr>\n",
       "  </tbody>\n",
       "</table>\n",
       "</div>"
      ],
      "text/plain": [
       "                                         Treinamento  B1\n",
       "0  estão vendo esse logo? é da volkswagen !\\no ma...   0\n",
       "1  autoeuropa de palmela não deverá ser afetada p...   2\n",
       "2  se fizerem eu tatuo volkswagen no meu peito e ...   0\n",
       "3  grupo volkswagen terá plataforma única para to...   3\n",
       "4  @volkswagen  apresenta roteiro da tecnologia p...   1"
      ]
     },
     "execution_count": 54,
     "metadata": {},
     "output_type": "execute_result"
    }
   ],
   "source": [
    "train = pd.read_excel(filename)\n",
    "train.head(5)"
   ]
  },
  {
   "cell_type": "code",
   "execution_count": 55,
   "metadata": {},
   "outputs": [
    {
     "data": {
      "text/html": [
       "<div>\n",
       "<style scoped>\n",
       "    .dataframe tbody tr th:only-of-type {\n",
       "        vertical-align: middle;\n",
       "    }\n",
       "\n",
       "    .dataframe tbody tr th {\n",
       "        vertical-align: top;\n",
       "    }\n",
       "\n",
       "    .dataframe thead th {\n",
       "        text-align: right;\n",
       "    }\n",
       "</style>\n",
       "<table border=\"1\" class=\"dataframe\">\n",
       "  <thead>\n",
       "    <tr style=\"text-align: right;\">\n",
       "      <th></th>\n",
       "      <th>Teste</th>\n",
       "      <th>B1</th>\n",
       "    </tr>\n",
       "  </thead>\n",
       "  <tbody>\n",
       "    <tr>\n",
       "      <td>0</td>\n",
       "      <td>@moremotorcycles made by volkswagen👍</td>\n",
       "      <td>0</td>\n",
       "    </tr>\n",
       "    <tr>\n",
       "      <td>1</td>\n",
       "      <td>esperemos que seja verdade, que em portugal nã...</td>\n",
       "      <td>0</td>\n",
       "    </tr>\n",
       "    <tr>\n",
       "      <td>2</td>\n",
       "      <td>a china \"permaneceu como o maior mercado único...</td>\n",
       "      <td>3</td>\n",
       "    </tr>\n",
       "    <tr>\n",
       "      <td>3</td>\n",
       "      <td>volkswagen investirá em 6 fábricas de baterias...</td>\n",
       "      <td>1</td>\n",
       "    </tr>\n",
       "    <tr>\n",
       "      <td>4</td>\n",
       "      <td>inclusive, é bem provável que os agressores gr...</td>\n",
       "      <td>2</td>\n",
       "    </tr>\n",
       "  </tbody>\n",
       "</table>\n",
       "</div>"
      ],
      "text/plain": [
       "                                               Teste  B1\n",
       "0               @moremotorcycles made by volkswagen👍   0\n",
       "1  esperemos que seja verdade, que em portugal nã...   0\n",
       "2  a china \"permaneceu como o maior mercado único...   3\n",
       "3  volkswagen investirá em 6 fábricas de baterias...   1\n",
       "4  inclusive, é bem provável que os agressores gr...   2"
      ]
     },
     "execution_count": 55,
     "metadata": {},
     "output_type": "execute_result"
    }
   ],
   "source": [
    "test = pd.read_excel(filename, sheet_name = 'Teste')\n",
    "test.head(5)"
   ]
  },
  {
   "cell_type": "markdown",
   "metadata": {},
   "source": [
    "___\n",
    "## Classificador automático de sentimento\n"
   ]
  },
  {
   "cell_type": "markdown",
   "metadata": {},
   "source": [
    "Escolhemos a marca de automóveis **Volkswagen**, e assim montamos um classificador com as seguintes legendas **(0-irrelevante, 1-neutro, 2-relevante, 3-muito relevante)**. \n",
    "\n",
    "- Como **\"0\"**: definimos como irrelevante assuntos que apenas fazem uso do nome da marca porém não possuem contexto. \n",
    "#### **Exemplo : \"comprei um carro para andar dentro de água era um volkswagen golfinho\"**\n",
    "\n",
    "\n",
    "\n",
    "- Como **\"1\"**: definimos como neutro assuntos relacionados a marca mas nao que expressam em si alguma qualidade, critica ou novidade.\n",
    "#### **Exemplo: \"volkswagen reconhece apoio à ditadura militar no brasil\"**\n",
    "\n",
    "\n",
    "\n",
    "- Como **\"2\"**: definimos como relevantes assuntos que expressam novidades e características sobre a marca, mesmo que não expresse uma opinão nítida de qualidade. \n",
    "#### **Exemplo: \"volkswagen confirma polo track com motor 1.0\"**\n",
    "\n",
    "\n",
    "\n",
    "- Como **\"3\"**: Por ultimo, definimos como muito relevate, os tweets que alem de cumprir os requisitos de ser classificado como \"2\", expõe de maneira clara uma avaliação sobre a qualidade e competência da marca. \n",
    "#### **Exemplo: \"melhor carro do mundo bjks — todo mundo adora volkswagen\"**\n",
    "\n",
    "\n",
    "**OBS:** Posteriormento no projeto, avaliamos que seria melhor juntar as categorias relevantes e muito relevantes, de forma a adptar o classificador e trabalhar com probabilidades melhores."
   ]
  },
  {
   "cell_type": "markdown",
   "metadata": {},
   "source": [
    "## Funções de Limpeza"
   ]
  },
  {
   "cell_type": "code",
   "execution_count": 56,
   "metadata": {},
   "outputs": [],
   "source": [
    "import re \n",
    "import functools\n",
    "import operator\n",
    "import emoji\n",
    "\n",
    "# Função de limpeza a qual troca alguns sinais básicos por espaços\n",
    "def cleanup(text):\n",
    "  \n",
    "    punctuation = '[/!-.:?;\"@]' \n",
    "    pattern = re.compile(punctuation)\n",
    "    text_subbed = re.sub(pattern, '', text)\n",
    "    return text_subbed\n",
    "\n",
    "def cleanup_n(text):\n",
    "    punctuation = '\\n'\n",
    "    pattern = re.compile(punctuation)\n",
    "    text_subbed = re.sub(pattern, ' ', text)\n",
    "    return text_subbed\n",
    "\n",
    "#Limpeza Emoji e Split do texto\n",
    "def cleanup_emoji(em):\n",
    "    \n",
    "    em_split_emoji = emoji.get_emoji_regexp().split(em)\n",
    "    em_split_whitespace = [substr.split() for substr in em_split_emoji]\n",
    "    em_split = functools.reduce(operator.concat, em_split_whitespace)\n",
    "    \n",
    "    return em_split\n",
    "\n"
   ]
  },
  {
   "cell_type": "markdown",
   "metadata": {},
   "source": [
    "## Treinamento"
   ]
  },
  {
   "cell_type": "code",
   "execution_count": 57,
   "metadata": {},
   "outputs": [],
   "source": [
    "irrelevantes = train['B1'] == 0\n",
    "neutro = train['B1'] == 1\n",
    "relevantes = train['B1'] == 2\n",
    "mt_relevantes = train['B1'] == 3\n",
    "\n",
    "dados_i = train.loc[irrelevantes,:] \n",
    "dados_n = train.loc[neutro,:]\n",
    "dados_r = train.loc[relevantes,:]\n",
    "dados_mtr = train.loc[mt_relevantes,:]"
   ]
  },
  {
   "cell_type": "code",
   "execution_count": 58,
   "metadata": {},
   "outputs": [],
   "source": [
    "# ''.join() = to_string()\n",
    "\n",
    "#string com irrelevantes\n",
    "txt_irrelevantes = dados_i.Treinamento.to_string()\n",
    "#aplica as funções de limpeza\n",
    "clean_irrelevantes = cleanup_emoji(cleanup_n(cleanup(txt_irrelevantes.lower())))\n",
    "\n",
    "#string com neutros \n",
    "txt_neutro = dados_n.Treinamento.to_string()\n",
    "#aplica as funções de limpeza\n",
    "clean_neutro = cleanup_emoji(cleanup_n(cleanup(txt_neutro.lower())))\n",
    "\n",
    "#string com relevantes =\n",
    "txt_relevantes = dados_r.Treinamento.to_string()\n",
    "#aplica as funções de limpeza\n",
    "clean_relevantes = cleanup_emoji(cleanup_n(cleanup(txt_irrelevantes.lower())))\n",
    "\n",
    "#string com  muito relevantes\n",
    "txt_mtrelevantes = dados_mtr.Treinamento.to_string()\n",
    "#aplica as funções de limpeza\n",
    "clean_mtrelevantes = cleanup_emoji(cleanup_n(cleanup(txt_mtrelevantes.lower())))\n"
   ]
  },
  {
   "cell_type": "markdown",
   "metadata": {},
   "source": [
    "## Teste"
   ]
  },
  {
   "cell_type": "code",
   "execution_count": 59,
   "metadata": {},
   "outputs": [],
   "source": [
    "test_irrelevantes = test['B1'] == 0\n",
    "test_neutro = test['B1'] == 1\n",
    "test_relevantes = test['B1'] == 2\n",
    "test_mt_relevantes = test['B1'] == 3\n",
    "\n",
    "Tdados_i = test.loc[test_irrelevantes,:] \n",
    "Tdados_n = test.loc[test_neutro,:]\n",
    "Tdados_r = test.loc[test_relevantes,:]\n",
    "Tdados_mtr = test.loc[test_mt_relevantes,:]"
   ]
  },
  {
   "cell_type": "code",
   "execution_count": 60,
   "metadata": {},
   "outputs": [],
   "source": [
    "Ttxt_irrelevantes = Tdados_i.Teste.to_string()\n",
    "clean_irrelevantes2 = cleanup_emoji(cleanup_n(cleanup(Ttxt_irrelevantes.lower())))\n",
    "\n",
    "Ttxt_neutro = Tdados_n.Teste.to_string()\n",
    "clean_neutro2 = cleanup_emoji(cleanup_n(cleanup(Ttxt_neutro.lower())))\n",
    "\n",
    "Ttxt_relevantes = Tdados_r.Teste.to_string()\n",
    "clean_relevantes2 = cleanup_emoji(cleanup_n(cleanup(Ttxt_irrelevantes.lower())))\n",
    "\n",
    "Ttxt_mtrelevantes = Tdados_mtr.Teste.to_string()\n",
    "clean_mtrelevantes2 = cleanup_emoji(cleanup_n(cleanup(txt_mtrelevantes.lower())))\n"
   ]
  },
  {
   "cell_type": "markdown",
   "metadata": {},
   "source": [
    "## Visualizando as probabilidades "
   ]
  },
  {
   "cell_type": "code",
   "execution_count": 61,
   "metadata": {},
   "outputs": [
    {
     "name": "stdout",
     "output_type": "stream",
     "text": [
      "Probabilidade de tweets irrelevantes no treinamento: 48.4 %\n",
      "Probabilidade de tweets neutros no treinamento: 26.05 %\n",
      "Probabilidade de tweets Relevantes e Muito Relevantes no treinamento: 25.58 %\n",
      "--------------------------------------------------------------------------------\n",
      "Probabilidade de tweets irrelevantes no teste: 40.94 %\n",
      "Probabilidade de tweets neutros no teste: 22.81 %\n",
      "Probabilidade de tweets Relevantes e Muito Relevantes no teste: 36.25 %\n"
     ]
    },
    {
     "data": {
      "image/png": "[encoded data removed]",
      "text/plain": [
       "<Figure size 936x360 with 2 Axes>"
      ]
     },
     "metadata": {
      "needs_background": "light"
     },
     "output_type": "display_data"
    }
   ],
   "source": [
    "# Resumo Relatório \n",
    "\n",
    "# Resultados na Planilha Treinamento\n",
    "prob_treinamento = train.B1.value_counts(True, sort=False)\n",
    "\n",
    "P_I = prob_treinamento[0]\n",
    "P_N = prob_treinamento[1]\n",
    "P_R = prob_treinamento[2]\n",
    "P_MTR = prob_treinamento[3]\n",
    "#Agrupando as categorias relevantes em uma só\n",
    "P_relevantes = P_R + P_MTR\n",
    "\n",
    "\n",
    "print(f'Probabilidade de tweets irrelevantes no treinamento: {P_I*100:0.3g} %')\n",
    "print(f'Probabilidade de tweets neutros no treinamento: {P_N*100:0.4g} %')\n",
    "print(f'Probabilidade de tweets Relevantes e Muito Relevantes no treinamento: {P_relevantes*100:0.4g} %')\n",
    "\n",
    "\n",
    "print('-'*80)\n",
    "\n",
    "# Resultados na Planilha Teste\n",
    "prob_test = test.B1.value_counts(True, sort=False)\n",
    "\n",
    "P_I_test = prob_test[0]\n",
    "P_N_test = prob_test[1]\n",
    "P_R_test = prob_test[2]\n",
    "P_MTR_test = prob_test[3]\n",
    "P_relevantes_test = P_R_test + P_MTR_test\n",
    "\n",
    "print(f'Probabilidade de tweets irrelevantes no teste: {P_I_test*100:0.4g} %')\n",
    "print(f'Probabilidade de tweets neutros no teste: {P_N_test*100:0.4g} %')\n",
    "print(f'Probabilidade de tweets Relevantes e Muito Relevantes no teste: {P_relevantes_test*100:0.4g} %')\n",
    "\n",
    "\n",
    "\n",
    "fig = plt.figure(figsize=(13, 5))\n",
    "\n",
    "#Plotando o grafico resumo do Treinamento\n",
    "plt.subplot(121)\n",
    "prob_treinamento.plot(kind='bar',color = ['darkorange', 'darkblue','darkgreen','darkcyan'])\n",
    "plt.title('Treinamento')\n",
    "plt.xlabel('Relevância')\n",
    "plt.ylabel('Porcentagem')\n",
    "\n",
    "#Plotando o grafico resumo do Teste\n",
    "plt.subplot(122)\n",
    "\n",
    "prob_test.plot(kind='bar', color = ['darkorange', 'darkblue','darkgreen','darkcyan'])\n",
    "plt.title('Teste')\n",
    "plt.xlabel('Relevância')\n",
    "plt.ylabel('Porcentagem')\n",
    "plt.tight_layout()\n",
    "plt.show()"
   ]
  },
  {
   "cell_type": "markdown",
   "metadata": {},
   "source": [
    "###  Frequencias absolutas do Treinamento"
   ]
  },
  {
   "cell_type": "code",
   "execution_count": 62,
   "metadata": {},
   "outputs": [
    {
     "data": {
      "text/plain": [
       "936"
      ]
     },
     "execution_count": 62,
     "metadata": {},
     "output_type": "execute_result"
    }
   ],
   "source": [
    "#calculando o total de palavras irrelevantes\n",
    "irrelevantes_serie = pd.Series(clean_irrelevantes)\n",
    "\n",
    "tabela_irrelevantes_absoluta = irrelevantes_serie.value_counts()\n",
    "total_palavras_irrelevantes = irrelevantes_serie.value_counts().size\n",
    "total_palavras_irrelevantes"
   ]
  },
  {
   "cell_type": "code",
   "execution_count": 63,
   "metadata": {},
   "outputs": [
    {
     "data": {
      "text/plain": [
       "497"
      ]
     },
     "execution_count": 63,
     "metadata": {},
     "output_type": "execute_result"
    }
   ],
   "source": [
    "#calculando o total de palavras neutras\n",
    "neutro_serie = pd.Series(clean_neutro)\n",
    "\n",
    "tabela_neutro_absoluta = neutro_serie.value_counts()\n",
    "total_palavras_neutro = neutro_serie.value_counts().size\n",
    "total_palavras_neutro"
   ]
  },
  {
   "cell_type": "code",
   "execution_count": 64,
   "metadata": {},
   "outputs": [
    {
     "data": {
      "text/plain": [
       "1118"
      ]
     },
     "execution_count": 64,
     "metadata": {},
     "output_type": "execute_result"
    }
   ],
   "source": [
    "#calculando o total de palavras relevantes\n",
    "relevantes_serie = pd.Series(clean_relevantes + clean_mtrelevantes) \n",
    "\n",
    "tabela_relevantes_absoluta = relevantes_serie.value_counts()\n",
    "total_palavras_relevantes = relevantes_serie.value_counts().size\n",
    "total_palavras_relevantes\n"
   ]
  },
  {
   "cell_type": "markdown",
   "metadata": {},
   "source": [
    "___\n",
    "### Montando um Classificador Naive-Bayes\n",
    "\n",
    "Considerando apenas as mensagens da planilha Treinamento, ensine  seu classificador."
   ]
  },
  {
   "cell_type": "markdown",
   "metadata": {},
   "source": [
    "### Classificador Naive-Bayes"
   ]
  },
  {
   "cell_type": "code",
   "execution_count": 65,
   "metadata": {},
   "outputs": [
    {
     "data": {
      "text/html": [
       "<div>\n",
       "<style scoped>\n",
       "    .dataframe tbody tr th:only-of-type {\n",
       "        vertical-align: middle;\n",
       "    }\n",
       "\n",
       "    .dataframe tbody tr th {\n",
       "        vertical-align: top;\n",
       "    }\n",
       "\n",
       "    .dataframe thead th {\n",
       "        text-align: right;\n",
       "    }\n",
       "</style>\n",
       "<table border=\"1\" class=\"dataframe\">\n",
       "  <thead>\n",
       "    <tr style=\"text-align: right;\">\n",
       "      <th></th>\n",
       "      <th>Teste</th>\n",
       "      <th>B1</th>\n",
       "      <th>Classificacao</th>\n",
       "    </tr>\n",
       "  </thead>\n",
       "  <tbody>\n",
       "    <tr>\n",
       "      <td>0</td>\n",
       "      <td>@moremotorcycles made by volkswagen👍</td>\n",
       "      <td>0</td>\n",
       "      <td>Neutro</td>\n",
       "    </tr>\n",
       "    <tr>\n",
       "      <td>1</td>\n",
       "      <td>esperemos que seja verdade, que em portugal nã...</td>\n",
       "      <td>0</td>\n",
       "      <td>Neutro</td>\n",
       "    </tr>\n",
       "    <tr>\n",
       "      <td>2</td>\n",
       "      <td>a china \"permaneceu como o maior mercado único...</td>\n",
       "      <td>3</td>\n",
       "      <td>Neutro</td>\n",
       "    </tr>\n",
       "    <tr>\n",
       "      <td>3</td>\n",
       "      <td>volkswagen investirá em 6 fábricas de baterias...</td>\n",
       "      <td>1</td>\n",
       "      <td>Neutro</td>\n",
       "    </tr>\n",
       "    <tr>\n",
       "      <td>4</td>\n",
       "      <td>inclusive, é bem provável que os agressores gr...</td>\n",
       "      <td>2</td>\n",
       "      <td>Irrelevante</td>\n",
       "    </tr>\n",
       "    <tr>\n",
       "      <td>...</td>\n",
       "      <td>...</td>\n",
       "      <td>...</td>\n",
       "      <td>...</td>\n",
       "    </tr>\n",
       "    <tr>\n",
       "      <td>315</td>\n",
       "      <td>@portaltracklist @ford @volkswagen_ podem faze...</td>\n",
       "      <td>3</td>\n",
       "      <td>Irrelevante</td>\n",
       "    </tr>\n",
       "    <tr>\n",
       "      <td>316</td>\n",
       "      <td>bem feito fiat! aqui é volkswagen</td>\n",
       "      <td>3</td>\n",
       "      <td>Relevante</td>\n",
       "    </tr>\n",
       "    <tr>\n",
       "      <td>317</td>\n",
       "      <td>@vitorsaraivas n da p eu ter um golzinho pq a ...</td>\n",
       "      <td>3</td>\n",
       "      <td>Relevante</td>\n",
       "    </tr>\n",
       "    <tr>\n",
       "      <td>318</td>\n",
       "      <td>2018 volkswagen vento\\nhttps://t.co/rjf0i6nznx...</td>\n",
       "      <td>0</td>\n",
       "      <td>Neutro</td>\n",
       "    </tr>\n",
       "    <tr>\n",
       "      <td>319</td>\n",
       "      <td>volkswagen saveiro conheça toda a história – b...</td>\n",
       "      <td>0</td>\n",
       "      <td>Irrelevante</td>\n",
       "    </tr>\n",
       "  </tbody>\n",
       "</table>\n",
       "<p>320 rows × 3 columns</p>\n",
       "</div>"
      ],
      "text/plain": [
       "                                                 Teste  B1 Classificacao\n",
       "0                 @moremotorcycles made by volkswagen👍   0        Neutro\n",
       "1    esperemos que seja verdade, que em portugal nã...   0        Neutro\n",
       "2    a china \"permaneceu como o maior mercado único...   3        Neutro\n",
       "3    volkswagen investirá em 6 fábricas de baterias...   1        Neutro\n",
       "4    inclusive, é bem provável que os agressores gr...   2   Irrelevante\n",
       "..                                                 ...  ..           ...\n",
       "315  @portaltracklist @ford @volkswagen_ podem faze...   3   Irrelevante\n",
       "316                  bem feito fiat! aqui é volkswagen   3     Relevante\n",
       "317  @vitorsaraivas n da p eu ter um golzinho pq a ...   3     Relevante\n",
       "318  2018 volkswagen vento\\nhttps://t.co/rjf0i6nznx...   0        Neutro\n",
       "319  volkswagen saveiro conheça toda a história – b...   0   Irrelevante\n",
       "\n",
       "[320 rows x 3 columns]"
      ]
     },
     "execution_count": 65,
     "metadata": {},
     "output_type": "execute_result"
    }
   ],
   "source": [
    "lista_classifica = []\n",
    "\n",
    "def classifica(tweet):\n",
    "    \n",
    "    a = 1\n",
    "    b = 1\n",
    "    c = 1\n",
    "    \n",
    "    palavras_possivel_0repeticao = total_palavras_relevantes + total_palavras_irrelevantes + total_palavras_neutro\n",
    "    \n",
    "    soma_tab_irrelevantes = tabela_irrelevantes_absoluta.sum()\n",
    "    soma_tab_neutro = tabela_neutro_absoluta.sum()\n",
    "    soma_tab_relevantes = tabela_relevantes_absoluta.sum()\n",
    "    \n",
    "    for palavra in tweet.split():\n",
    "        \n",
    "        #verifica se a palavra existe no irrelevante\n",
    "        if palavra not in tabela_irrelevantes_absoluta: \n",
    "            \n",
    "            a *= 1/(palavras_possivel_0repeticao + soma_tab_irrelevantes)\n",
    "            \n",
    "        else:\n",
    "            \n",
    "            a *= (tabela_irrelevantes_absoluta[palavra] + 1)/(palavras_possivel_0repeticao + soma_tab_irrelevantes)\n",
    "            \n",
    "            \n",
    "        #verifica se a palavra existe no neutro \n",
    "        if palavra not in tabela_neutro_absoluta:\n",
    "            \n",
    "            b *= 1/(palavras_possivel_0repeticao + soma_tab_neutro)\n",
    "            \n",
    "        else:\n",
    "\n",
    "            b *= (tabela_neutro_absoluta[palavra] + 1)/(palavras_possivel_0repeticao + soma_tab_neutro)\n",
    "            \n",
    "        #verifica se a palavra existe no relevante          \n",
    "        if palavra not in tabela_relevantes_absoluta:\n",
    "            \n",
    "            c *= 1/(palavras_possivel_0repeticao + soma_tab_relevantes)\n",
    "            \n",
    "        else:\n",
    "            c *= (tabela_relevantes_absoluta[palavra] + 1)/(palavras_possivel_0repeticao + soma_tab_relevantes)\n",
    "\n",
    "    \n",
    "    #calcula a probabilida final da palavra esta em cada categoria\n",
    "    aa = a * P_I\n",
    "    bb = b * P_N\n",
    "    cc = c * P_relevantes\n",
    "   \n",
    "    #compara para ver em qual categoria pertence\n",
    "\n",
    "    if (aa > bb and aa>cc):\n",
    "        lista_classifica.append('Irrelevante')\n",
    "\n",
    "    \n",
    "    if (bb>aa and bb>cc):\n",
    "        lista_classifica.append('Neutro')\n",
    "\n",
    "    \n",
    "    if (cc>aa and cc>bb):\n",
    "        lista_classifica.append('Relevante')\n",
    "        \n",
    "\n",
    "#classifica os tweets da planilha teste        \n",
    "for tweet in test.Teste:\n",
    "    clean_tweet_split = cleanup_n(cleanup(tweet.lower()))\n",
    "    classifica(clean_tweet_split)\n",
    "    \n",
    "test['Classificacao'] = lista_classifica\n",
    "test"
   ]
  },
  {
   "cell_type": "markdown",
   "metadata": {},
   "source": [
    "___\n",
    "### Verificando a performance do Classificador\n",
    "\n",
    "Agora você deve testar o seu classificador com a base de Testes."
   ]
  },
  {
   "cell_type": "code",
   "execution_count": 66,
   "metadata": {},
   "outputs": [
    {
     "name": "stdout",
     "output_type": "stream",
     "text": [
      "Verdadeiros irrelevantes: 24.06 %\n",
      "Falsos irrelevantes: 16.88 %\n",
      "--------------------------------------------------------------------------------\n",
      "Verdadeiros neutros: 10.0 %\n",
      "Falsos neutros: 12.81 %\n",
      "--------------------------------------------------------------------------------\n",
      "Verdadeiros relevantes: 14.69 %\n",
      "Falsos relevantes: 21.56 %\n",
      "________________________________________________________________________________\n",
      "\u001b[1mAcurácia do classificador: \u001b[92m 48.75 %\n"
     ]
    }
   ],
   "source": [
    "verdadeiro_irrelevante = 0\n",
    "falso_irrelevante = 0\n",
    "\n",
    "verdadeiro_neutro = 0\n",
    "falso_neutro = 0\n",
    "\n",
    "verdadeiro_relevante = 0\n",
    "falso_relevante = 0\n",
    "\n",
    "veredito = []\n",
    "\n",
    "for ii in range(len(test)):\n",
    "    \n",
    "    #compara se o tweet permaneceu irrelevante\n",
    "    if test['B1'][ii] == 0:\n",
    "        \n",
    "        if test['Classificacao'][ii] == 'Irrelevante' :\n",
    "            veredito.append('Verdadeiro Irrelevante')\n",
    "            verdadeiro_irrelevante += 1\n",
    "                            \n",
    "        else :\n",
    "            veredito.append('Falso Irrelevante')\n",
    "            falso_irrelevante += 1\n",
    "\n",
    "    #compara se o tweet permaneceu neutro        \n",
    "    if test['B1'][ii] == 1:\n",
    "        \n",
    "        if test['Classificacao'][ii] == 'Neutro' :\n",
    "            veredito.append('Verdadeiro Neutro')\n",
    "            verdadeiro_neutro += 1\n",
    "            \n",
    "        else:\n",
    "            veredito.append('Falso Neutro')\n",
    "            falso_neutro += 1\n",
    "      \n",
    "    #compara se o tweet permaneceu relevante\n",
    "    if test['B1'][ii] == 2 or test['B1'][ii]==3:\n",
    "        \n",
    "        if test['Classificacao'][ii] == 'Relevante':\n",
    "            veredito.append('Verdadeiro Relevante')\n",
    "            verdadeiro_relevante += 1\n",
    "            \n",
    "        else:\n",
    "            veredito.append('Falso Relevante')\n",
    "            falso_relevante += 1\n",
    "            \n",
    "test['Veredito'] = veredito\n",
    "test.Veredito = pd.Categorical(test.Veredito, categories = ('Verdadeiro Irrelevante','Falso Irrelevante','Verdadeiro Neutro','Falso Neutro','Verdadeiro Relevante','Falso Relevante'),ordered=False)\n",
    "\n",
    "#calcula as frequencias relativas de cada veredito\n",
    "prob_veredito = test.Veredito.value_counts(True, sort=False)\n",
    "\n",
    "print (f'Verdadeiros irrelevantes: {(((prob_veredito[0])*100).round(2))} %')\n",
    "print (f'Falsos irrelevantes: {(((prob_veredito[1])*100).round(2))} %')\n",
    "\n",
    "print('-'*80)\n",
    "\n",
    "print (f'Verdadeiros neutros: {(((prob_veredito[2])*100).round(2))} %')\n",
    "print (f'Falsos neutros: {(((prob_veredito[3])*100).round(2))} %')\n",
    "\n",
    "print('-'*80)\n",
    "\n",
    "print (f'Verdadeiros relevantes: {(((prob_veredito[4])*100).round(2))} %')\n",
    "print (f'Falsos relevantes: {(((prob_veredito[5])*100).round(2))} %')\n",
    "\n",
    "#acuracia =  soma das probabilidades dos vereditos verdadeiros\n",
    "acuracia = (((prob_veredito[0])*100).round(2)) + (((prob_veredito[2])*100).round(2)) + (((prob_veredito[4])*100).round(2))\n",
    "\n",
    "print('_'*80)\n",
    "\n",
    "print('\\033[1m' + 'Acurácia do classificador: ' + '\\033[92m', acuracia, '%' )\n"
   ]
  },
  {
   "cell_type": "code",
   "execution_count": 67,
   "metadata": {},
   "outputs": [
    {
     "data": {
      "text/html": [
       "<div>\n",
       "<style scoped>\n",
       "    .dataframe tbody tr th:only-of-type {\n",
       "        vertical-align: middle;\n",
       "    }\n",
       "\n",
       "    .dataframe tbody tr th {\n",
       "        vertical-align: top;\n",
       "    }\n",
       "\n",
       "    .dataframe thead th {\n",
       "        text-align: right;\n",
       "    }\n",
       "</style>\n",
       "<table border=\"1\" class=\"dataframe\">\n",
       "  <thead>\n",
       "    <tr style=\"text-align: right;\">\n",
       "      <th>Classificacao</th>\n",
       "      <th>Irrelevante</th>\n",
       "      <th>Neutro</th>\n",
       "      <th>Relevante</th>\n",
       "      <th>All</th>\n",
       "    </tr>\n",
       "    <tr>\n",
       "      <th>B1</th>\n",
       "      <th></th>\n",
       "      <th></th>\n",
       "      <th></th>\n",
       "      <th></th>\n",
       "    </tr>\n",
       "  </thead>\n",
       "  <tbody>\n",
       "    <tr>\n",
       "      <td>0</td>\n",
       "      <td>0.240625</td>\n",
       "      <td>0.103125</td>\n",
       "      <td>0.065625</td>\n",
       "      <td>0.409375</td>\n",
       "    </tr>\n",
       "    <tr>\n",
       "      <td>1</td>\n",
       "      <td>0.075000</td>\n",
       "      <td>0.100000</td>\n",
       "      <td>0.053125</td>\n",
       "      <td>0.228125</td>\n",
       "    </tr>\n",
       "    <tr>\n",
       "      <td>2</td>\n",
       "      <td>0.040625</td>\n",
       "      <td>0.065625</td>\n",
       "      <td>0.025000</td>\n",
       "      <td>0.131250</td>\n",
       "    </tr>\n",
       "    <tr>\n",
       "      <td>3</td>\n",
       "      <td>0.062500</td>\n",
       "      <td>0.046875</td>\n",
       "      <td>0.121875</td>\n",
       "      <td>0.231250</td>\n",
       "    </tr>\n",
       "    <tr>\n",
       "      <td>All</td>\n",
       "      <td>0.418750</td>\n",
       "      <td>0.315625</td>\n",
       "      <td>0.265625</td>\n",
       "      <td>1.000000</td>\n",
       "    </tr>\n",
       "  </tbody>\n",
       "</table>\n",
       "</div>"
      ],
      "text/plain": [
       "Classificacao  Irrelevante    Neutro  Relevante       All\n",
       "B1                                                       \n",
       "0                 0.240625  0.103125   0.065625  0.409375\n",
       "1                 0.075000  0.100000   0.053125  0.228125\n",
       "2                 0.040625  0.065625   0.025000  0.131250\n",
       "3                 0.062500  0.046875   0.121875  0.231250\n",
       "All               0.418750  0.315625   0.265625  1.000000"
      ]
     },
     "execution_count": 67,
     "metadata": {},
     "output_type": "execute_result"
    }
   ],
   "source": [
    "#constroi uma tabela comparativa entre nossa cassificacao e a do classificador\n",
    "pd.crosstab(test.B1, test.Classificacao, normalize=True, margins=True)"
   ]
  },
  {
   "cell_type": "markdown",
   "metadata": {},
   "source": [
    "___\n",
    "### Concluindo"
   ]
  },
  {
   "cell_type": "markdown",
   "metadata": {},
   "source": [
    "É possível concluir que o classficador não obteve uma eficácia muito alta, porém era de se esperar que ocorreriam vereditos de falsas afirmações pois a base de tweets que levam o nome da marca Volkswagen são, em grande maioria, indiferentes à demonstração de opinião sobre a qualidade da marca ou dos serviços prestados pela mesma. Ao analisar a performance do classificador, os numeros probabilisticos de veredito correto se manteve apenas um pouco maior que veredito errado, ou seja, tweets de mesma categoria foram confundidos pelo classificador, porém o resultado de veredito verdadeiro foi maior.\n"
   ]
  },
  {
   "cell_type": "markdown",
   "metadata": {},
   "source": [
    "### Tweets que apresentam dupla negação ou sarcasmo"
   ]
  },
  {
   "cell_type": "markdown",
   "metadata": {},
   "source": [
    "Como o fator determinante de relevância escolhido pelo grupo foi em relação na demonstração de crítica sobre a marca, tweets que apresentarem quaisquer contradição **não afetará o desempenho do nosso classificador**, uma vez que estarão expondo uma opinião e assim, classificados como relevantes."
   ]
  },
  {
   "cell_type": "markdown",
   "metadata": {},
   "source": [
    "### Plano de expansão"
   ]
  },
  {
   "cell_type": "markdown",
   "metadata": {},
   "source": [
    "O motivo pelo qual o financiamento do projeto deve ser expandido é que, com mais tempo e recursos, será possível obter uma base de treinamento maior que possibilite a função do classificador ter mais exemplos de relevantes, neutros e irrelevantes. Além disso, com mais tempo e pesquisa, outras funções de limpeza poderiam ser ativadas no processo de montagem do próprio classificador. Ou seja, dado a continuação do investimento, a acurácia do classificador subiria sendo cada vez mais benéfico para a empresa. "
   ]
  },
  {
   "cell_type": "markdown",
   "metadata": {},
   "source": [
    "###  O porquê de não poder alimentar minha base de Treinamento automaticamente usando o próprio classificador aplicado a novos tweets"
   ]
  },
  {
   "cell_type": "markdown",
   "metadata": {},
   "source": [
    "É possível observar que o desempenho do classificador não mantém a relevância que classificamos manualmente, em outras palavras, parte da \"real\" relevância se perde com a classificação feita pelo classificador. Sendo assim, se alimentarmos a base de Treinamento com tweets classificados pelo classificador, a relevância fica menos precisa, uma vez que os erros de falsos relevantes, falsos neutros e falsos irrelevantes irão se propagar resultando em uma base de teste cada vez mais evasiva gerando resultados menos conclusivos."
   ]
  },
  {
   "cell_type": "markdown",
   "metadata": {},
   "source": [
    "### Diferentes cenários de uso para o classificador Naive-Bayes"
   ]
  },
  {
   "cell_type": "markdown",
   "metadata": {},
   "source": [
    "**1.** Usar o classificador para separar as **fake news** das notícias verídicas. Na maioria das vezes esse cenário é visto em campanhas políticas, onde a circulação de informação é um fator crucial nesse âmbito. A determinação seria em base do conteúdo demasiado apelativo que acompanham as frases das notícias falsas, onde o classificador agiria de acordo com esses padrões e retornaria a probabilidade da noticia em questão ser verdadeira ou falsa, sendo capaz de contribuir para veiculação de informação verdadeira à população.\n",
    "\n",
    "     \n",
    "**2.** O Naive-Bayes pode ser usado na classificação de **emails** ou ainda aplicativos de mensagem, operando em cima da caixa de entrada para classificar a mensagem como relavante ou spam. Nesse caso, o classificador poderia utilizar o design de um spam e assim ser capaz de indentificar e diferencia-lo de uma mensagem relevante de modo a melhorar qualquer serviço de recebimento de email/mensagens (Gmail, Outlook, Whatsaap, ...).\n",
    "\n",
    "\n",
    "**3.** Muito discutido nos dias de hoje, as **redes socias** e as **plataformas de streaming**, cujo algoritmo também podia ser alvo de um classificador Naive-Bayes, de modo que o classificador operasse com base na ações passadas do usuário para criar uma experiencia mais pessoal e indicar, com base nas escolhas de mesmos tipos de usuários, sugestões que levam grande chance de serem úteis ao usuário.\n",
    "\n",
    "\n"
   ]
  },
  {
   "cell_type": "markdown",
   "metadata": {},
   "source": [
    "### Melhorias que poderiam ser feitas ao classificador"
   ]
  },
  {
   "cell_type": "markdown",
   "metadata": {},
   "source": [
    "1.**Aumento da base de dados**. Nesse projeto, foi utilizado 750 tweets (treinamento e teste), e caso fosse maior, após a classificação manual, sem dúvidas a precisão do classiicador seria mais precisa. Para isso basta usar o código que captura os tweets da marca e aumentar o número tanto para treinamento quanto para o teste, proporcionalmente. Em seguida, classifica-los manualmente usando as categorias e o mesmo padrão de relevância definido e explicado no começo do projeto.\n",
    "\n",
    "2.**Limpeza de palavras** que sozinhas, não possuem quaiquer importância para determinar se o tweet é relevante, neutro ou irrelevante. São elas palavras de ligação: artigos e algumas preposições. Desse modo, o classificador obteria uma maior acertividade quanto à palavra/frase é ou não de fato relevante. Para isso, criar uma função de limpeza que recompila em espaço a lista de exemplos dessas palavras: ' o, a, os, as, ante, após, com, em, perante, por, sem, sob'.\n",
    "\n",
    "3.De grande interesse da empresa, poderia ocorrer a **separação dos relevantes**, tweets que revelam uma crítica positiva dos tweets que levam uma crítica negativa. Desse modo, a equipe de marketing da empresa teria fácil acesso ao que realmente funciona/qualidades da volkswagen e ao que não funciona/defeitos. Para realizar essa separação, somente a base da dados marcados como relevantes seria usada, e nela, aplicada uma outra classificação quanto sua categoria de relevância, mudando posteriormente o código do classificador o qual passaria ser uma classe e seria dado duas funções: o primeiro classificador de todos os tweets, e um segundo classificador apenas de tweets relevantes.\n",
    "\n"
   ]
  },
  {
   "cell_type": "markdown",
   "metadata": {},
   "source": [
    "\n",
    "## Etapa 6 \n",
    "### Qualidade do Classificador a partir de novas separações dos tweets entre Treinamento e Teste"
   ]
  },
  {
   "cell_type": "code",
   "execution_count": 68,
   "metadata": {},
   "outputs": [
    {
     "data": {
      "text/html": [
       "<div>\n",
       "<style scoped>\n",
       "    .dataframe tbody tr th:only-of-type {\n",
       "        vertical-align: middle;\n",
       "    }\n",
       "\n",
       "    .dataframe tbody tr th {\n",
       "        vertical-align: top;\n",
       "    }\n",
       "\n",
       "    .dataframe thead th {\n",
       "        text-align: right;\n",
       "    }\n",
       "</style>\n",
       "<table border=\"1\" class=\"dataframe\">\n",
       "  <thead>\n",
       "    <tr style=\"text-align: right;\">\n",
       "      <th></th>\n",
       "      <th>Tweet</th>\n",
       "      <th>B1</th>\n",
       "    </tr>\n",
       "  </thead>\n",
       "  <tbody>\n",
       "    <tr>\n",
       "      <td>274</td>\n",
       "      <td>fábrica de palmela não deverá ser afetada pela...</td>\n",
       "      <td>2</td>\n",
       "    </tr>\n",
       "    <tr>\n",
       "      <td>733</td>\n",
       "      <td>#volkswagen id.4, um suv do porte do taos, ser...</td>\n",
       "      <td>0</td>\n",
       "    </tr>\n",
       "    <tr>\n",
       "      <td>421</td>\n",
       "      <td>volkswagen polo sportline 1.6 flex 2012❤😅👍🏻\\n⠀...</td>\n",
       "      <td>3</td>\n",
       "    </tr>\n",
       "    <tr>\n",
       "      <td>98</td>\n",
       "      <td>vocês querem me ouvir falar volkswagen é falha...</td>\n",
       "      <td>0</td>\n",
       "    </tr>\n",
       "    <tr>\n",
       "      <td>505</td>\n",
       "      <td>@zeiderp @volkswagen agradecemos o carinho, ze...</td>\n",
       "      <td>3</td>\n",
       "    </tr>\n",
       "  </tbody>\n",
       "</table>\n",
       "</div>"
      ],
      "text/plain": [
       "                                                 Tweet  B1\n",
       "274  fábrica de palmela não deverá ser afetada pela...   2\n",
       "733  #volkswagen id.4, um suv do porte do taos, ser...   0\n",
       "421  volkswagen polo sportline 1.6 flex 2012❤😅👍🏻\\n⠀...   3\n",
       "98   vocês querem me ouvir falar volkswagen é falha...   0\n",
       "505  @zeiderp @volkswagen agradecemos o carinho, ze...   3"
      ]
     },
     "execution_count": 68,
     "metadata": {},
     "output_type": "execute_result"
    }
   ],
   "source": [
    "from sklearn.model_selection import train_test_split\n",
    "\n",
    "filename_etapa6 = 'Etapa6_df.xlsx'\n",
    "df = pd.read_excel(filename_etapa6)\n",
    "\n",
    "train6, test6 = train_test_split(df, test_size=0.4)\n",
    "test6.head()"
   ]
  },
  {
   "cell_type": "markdown",
   "metadata": {},
   "source": [
    "___\n",
    "## Referências"
   ]
  },
  {
   "cell_type": "markdown",
   "metadata": {},
   "source": [
    "Teoria Naive-Bayes\n",
    "- [Naive Bayes and Text Classification](https://arxiv.org/pdf/1410.5329.pdf)  \n",
    "\n",
    "- [A practical explanation of a Naive Bayes Classifier](https://monkeylearn.com/blog/practical-explanation-naive-bayes-classifier/) \n",
    "\n",
    "- [Aula08_Atividade_Texto_Camoes_Machado_MLcomNB.ipynb](https://github.com/Insper/CD21-1/blob/main/aula08/Aula08_Atividade_Texto_Camoes_Machado_MLcomNB.ipynb)\n",
    "\n",
    "Emoji Cleanup\n",
    "- https://stackoverflow.com/questions/49921720/how-to-split-emoji-from-each-other-python\n",
    "\n",
    "Biblioteca para fazer o split do Train/Test\n",
    "- https://scikit-learn.org/stable/modules/generated/sklearn.model_selection.train_test_split.html\n",
    "\n"
   ]
  },
  {
   "cell_type": "markdown",
   "metadata": {},
   "source": [
    "___\n",
    "## Aperfeiçoamento:\n",
    "\n",
    "Os trabalhos vão evoluir em conceito dependendo da quantidade de itens avançados:\n",
    "\n",
    "* Limpar: \\n, :, \", ', (, ), etc SEM remover emojis **FEITO**\n",
    "* Corrigir separação de espaços entre palavras e emojis ou entre emojis e emojis **FEITO**\n",
    "* Propor outras limpezas e transformações que não afetem a qualidade da informação ou classificação\n",
    "* Criar categorias intermediárias de relevância baseadas na probabilidade: ex.: muito relevante, relevante, neutro, irrelevante, muito irrelevante (3 categorias: C, mais categorias conta para B) **FEITO**\n",
    "* Explicar por que não posso usar o próprio classificador para gerar mais amostras de treinamento **FEITO**\n",
    "* Propor diferentes cenários para Naïve Bayes fora do contexto do projeto **FEITO**\n",
    "* Sugerir e explicar melhorias reais com indicações concretas de como implementar (indicar como fazer e indicar material de pesquisa) **FEITO**\n",
    "* Etapa 6 \n"
   ]
  }
 ],
 "metadata": {
  "kernelspec": {
   "display_name": "Python 3",
   "language": "python",
   "name": "python3"
  }
 },
 "nbformat": 4,
 "nbformat_minor": 4
}
